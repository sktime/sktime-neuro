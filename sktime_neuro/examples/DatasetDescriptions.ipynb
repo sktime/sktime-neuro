{
 "cells": [
  {
   "cell_type": "markdown",
   "source": [
    "## EEG data on timeseriesclassification.com\n",
    "\n",
    "Note this notebook will load data directly from the website and store them locally.\n",
    "The download fails on occasion, and some of the files are quite large.\n",
    "\n",
    "#### Datasets\n",
    "[EyesOpenShut](#eyesopenshut)\n",
    "\n",
    "[FingerMovements](#fingermovements)\n",
    "\n",
    "[HandMovementDirection](#handmovementdirection)\n",
    "\n",
    "[MotorImagery](#motorimagery)\n",
    "\n",
    "[FaceDetection](#facedetection)\n",
    "\n",
    "[SelfRegulationSCP1](#selfregulationscp1)\n",
    "\n",
    "[SelfRegulationSCP2](#selfregulationscp2)\n",
    "\n",
    "\n"
   ],
   "metadata": {
    "collapsed": false
   }
  },
  {
   "cell_type": "code",
   "execution_count": null,
   "outputs": [],
   "source": [
    "from sktime.datasets import load_UCR_UEA_dataset"
   ],
   "metadata": {
    "collapsed": false,
    "pycharm": {
     "name": "#%%\n"
    }
   }
  },
  {
   "cell_type": "markdown",
   "source": [
    "# EyesOpenShut\n",
    "\n",
    "[Formatted data](http://timeseriesclassification.com/description.php?Dataset=EyesOpenShut)\n",
    "[Original source](http://suendermann.com/su/pdf/aihls2013.pdf)\n",
    "\n",
    "The problem is to detect whether a persons eyes are open or shut based on a one second\n",
    "reading of an EEG. This is a reformulation of the data on the [UCI archive] (https://archive.ics.uci.edu/ml/machine-learning-databases/00264/)\n",
    "Link Here). The data is recorded on a single patient for 117 seconds with a 14\n",
    "channel EEG at 128 Hz. The original formulation treated each observation (1/28th of a\n",
    " second) as a case. We have reformulated it as MTSC. We remove obvious outliers\n",
    " (reading less than 3000 or more than 5000), segment the data into one second interval\n",
    " and retain only the intervals where the eyes are either open (class 0) or shut (class 1).\n",
    " This gives a 14 dimension MTSC problem with 128 observations per dimension.\n",
    " There are 54 class 0 and 44 class 1 (we have removed the 19 cases where the eyes\n",
    " were both open and shut). We created a default train test split, where the test has\n",
    " the last 21 observations of each class."
   ],
   "metadata": {
    "collapsed": false
   }
  },
  {
   "cell_type": "code",
   "execution_count": null,
   "outputs": [],
   "source": [
    "# load data\n",
    "trainX, trainY = load_UCR_UEA_dataset\n",
    "# Plot a small example\n",
    "\n",
    "# build a small classifier\n",
    "\n",
    "# pull out performance results of other classifiers with experimental_evaluation\n"
   ],
   "metadata": {
    "collapsed": false,
    "pycharm": {
     "name": "#%%\n"
    }
   }
  },
  {
   "cell_type": "markdown",
   "source": [
    "# FingerMovements"
   ],
   "metadata": {
    "collapsed": false
   }
  },
  {
   "cell_type": "markdown",
   "source": [
    "# HandMovementDirection"
   ],
   "metadata": {
    "collapsed": false
   }
  },
  {
   "cell_type": "markdown",
   "source": [
    "# MotorImagery"
   ],
   "metadata": {
    "collapsed": false
   }
  },
  {
   "cell_type": "markdown",
   "source": [
    "# FaceDetection"
   ],
   "metadata": {
    "collapsed": false
   }
  },
  {
   "cell_type": "markdown",
   "source": [
    "# SelfRegulationSCP1"
   ],
   "metadata": {
    "collapsed": false
   }
  },
  {
   "cell_type": "markdown",
   "source": [
    "# SelfRegulationSCP2\n",
    "\n"
   ],
   "metadata": {
    "collapsed": false
   }
  }
 ],
 "metadata": {
  "kernelspec": {
   "display_name": "Python 3",
   "language": "python",
   "name": "python3"
  },
  "language_info": {
   "codemirror_mode": {
    "name": "ipython",
    "version": 2
   },
   "file_extension": ".py",
   "mimetype": "text/x-python",
   "name": "python",
   "nbconvert_exporter": "python",
   "pygments_lexer": "ipython2",
   "version": "2.7.6"
  }
 },
 "nbformat": 4,
 "nbformat_minor": 0
}