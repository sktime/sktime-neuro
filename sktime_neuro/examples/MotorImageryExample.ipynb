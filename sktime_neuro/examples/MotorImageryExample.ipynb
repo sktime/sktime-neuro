{
 "cells": [
  {
   "cell_type": "code",
   "execution_count": null,
   "id": "fbd48c3d",
   "metadata": {},
   "outputs": [],
   "source": [
    "# get data\n",
    "import pandas as pd\n",
    "# ML stuff\n",
    "from mne.decoding import CSP\n",
    "from mne_bids import BIDSPath, read_raw_bids\n",
    "from sklearn.discriminant_analysis import LinearDiscriminantAnalysis\n",
    "from sklearn.model_selection import GridSearchCV\n",
    "from sklearn.pipeline import Pipeline\n",
    "# series to series transformer\n",
    "from sktime.transformations.series.detrend import Detrender\n",
    "\n",
    "# panel to panel transformers\n",
    "from sktime_neuro.transformations.panel.baselinecorrection import \\\n",
    "    BaselineCorrectionTransformer as Baseline\n",
    "from sktime_neuro.transformations.series.filterforseries import FilterforSeries\n",
    "from sktime_neuro.transformations.series.seriesdownsampling import \\\n",
    "    SeriesDownsampling\n",
    "from sktime_neuro.transformations.series_to_panel.eeg_epoching import epoch\n",
    "# epoching\n",
    "from sktime_neuro.utils import mne_processing as utils"
   ]
  },
  {
   "cell_type": "markdown",
   "id": "af1e71a7",
   "metadata": {},
   "source": [
    "## Get Bids Data into sktime Series format"
   ]
  },
  {
   "cell_type": "code",
   "execution_count": null,
   "id": "33cd0229",
   "metadata": {},
   "outputs": [],
   "source": [
    "# example can be downloaded here: https://osf.io/cj2dr/\n",
    "bids_path = BIDSPath(\n",
    "    subject=\"08\", task=\"matchingpennies\", suffix=\"eeg\", datatype=\"eeg\", root=\"example\"\n",
    ")\n",
    "\n",
    "raw = read_raw_bids(bids_path=bids_path, verbose=False)\n",
    "\n",
    "# mne assumes shape channels*timepoints;sktime assumes shape timepoints*channels\n",
    "data = raw.get_data().transpose()"
   ]
  },
  {
   "cell_type": "markdown",
   "id": "3df761b0",
   "metadata": {},
   "source": [
    "## Apply Series to Series Transformer"
   ]
  },
  {
   "cell_type": "code",
   "execution_count": null,
   "id": "31ce2737",
   "metadata": {},
   "outputs": [],
   "source": [
    "downsampled_data = SeriesDownsampling(2).fit_transform(data)"
   ]
  },
  {
   "cell_type": "code",
   "execution_count": null,
   "id": "d1c7a85d",
   "metadata": {},
   "outputs": [],
   "source": [
    "detrended_data = Detrender().fit_transform(pd.DataFrame(downsampled_data))"
   ]
  },
  {
   "cell_type": "code",
   "execution_count": null,
   "id": "b735c524",
   "metadata": {},
   "outputs": [],
   "source": [
    "filtered_data = FilterforSeries(l_freq=8, h_freq=16, sfreq=250).fit_transform(\n",
    "    detrended_data\n",
    ")"
   ]
  },
  {
   "cell_type": "markdown",
   "id": "d3d72a1e",
   "metadata": {},
   "source": [
    "## Epoch"
   ]
  },
  {
   "cell_type": "code",
   "execution_count": null,
   "id": "206e36c0",
   "metadata": {},
   "outputs": [],
   "source": [
    "annotation = utils.create_annotation(raw)\n",
    "\n",
    "data, labels = epoch(\n",
    "    Z=filtered_data,\n",
    "    annotation=annotation,\n",
    "    labels=[\"right/2\", \"left/1\"],\n",
    "    interval=[-0.5, 1.5],\n",
    "    sfreq=250,\n",
    ")"
   ]
  },
  {
   "cell_type": "markdown",
   "id": "aa9fc219",
   "metadata": {},
   "source": [
    "## Apply Panel-To-Panel Transformers"
   ]
  },
  {
   "cell_type": "code",
   "execution_count": null,
   "id": "69bbd971",
   "metadata": {},
   "outputs": [],
   "source": [
    "bl_corrected = Baseline(upper=0.5, fs=250).fit_transform(data)"
   ]
  },
  {
   "cell_type": "markdown",
   "id": "1ba55ad2",
   "metadata": {},
   "source": [
    "## Classify Trials"
   ]
  },
  {
   "cell_type": "code",
   "execution_count": null,
   "id": "452bf1fe",
   "metadata": {},
   "outputs": [],
   "source": [
    "# Assemble a classifier\n",
    "\n",
    "# filterer = PaneltoPanelFilter() # should not be done for short samples\n",
    "csp = CSP(transform_into=\"average_power\")\n",
    "lda = LinearDiscriminantAnalysis()\n",
    "\n",
    "\n",
    "param_grid = {\n",
    "    \"CSP__n_components\": [1, 2, 3, 4, 5, 7, 10],\n",
    "}\n",
    "\n",
    "# Use scikit-learn Pipeline with cross_val_score function\n",
    "pipe = Pipeline(steps=[(\"CSP\", csp), (\"LDA\", lda)])\n",
    "\n",
    "search = GridSearchCV(pipe, param_grid, n_jobs=-1)\n",
    "search.fit(bl_corrected, labels)\n",
    "print(\"Best parameter (CV score=%0.3f):\" % search.best_score_)\n",
    "print(search.best_params_)"
   ]
  }
 ],
 "metadata": {
  "kernelspec": {
   "display_name": "Python 3",
   "language": "python",
   "name": "python3"
  },
  "language_info": {
   "codemirror_mode": {
    "name": "ipython",
    "version": 3
   },
   "file_extension": ".py",
   "mimetype": "text/x-python",
   "name": "python",
   "nbconvert_exporter": "python",
   "pygments_lexer": "ipython3",
   "version": "3.8.10"
  }
 },
 "nbformat": 4,
 "nbformat_minor": 5
}